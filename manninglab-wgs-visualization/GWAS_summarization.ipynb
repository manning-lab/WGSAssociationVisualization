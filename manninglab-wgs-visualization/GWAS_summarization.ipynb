{
 "cells": [
  {
   "cell_type": "markdown",
   "metadata": {},
   "source": [
    "# Summarize GWAS summary statistics"
   ]
  },
  {
   "cell_type": "markdown",
   "metadata": {},
   "source": [
    "## Define the filepaths to your results\n",
    "____________________________\n",
    "(You should edit these)\n",
    "\n",
    "**in_file**: Filepath (or GCS link, ex: gs://my_bucket/my_file.csv) to a summary statistics file. This should be a delimited, plain text file in either uncompressed or gzip format.  \n",
    "**label**: Output filename prefix. (Default = NULL)  "
   ]
  },
  {
   "cell_type": "code",
   "execution_count": null,
   "metadata": {},
   "outputs": [],
   "source": [
    "in_file <- \"gs://fc-e2de5fb6-5945-4d50-bcf7-c29f963b6b5b/0259f1ba-87f4-4290-9476-6ee598d01c25/w_summaryCSV/c23b454e-c583-426d-8357-5add514bd80f/call-summaryCSV/1kg-t2d.all.assoc.csv\"\n",
    "label <- \"1kg-t2d\"\n",
    "\n"
   ]
  },
  {
   "cell_type": "markdown",
   "metadata": {},
   "source": [
    "## Install packages\n",
    "____________________________\n",
    "These packages are required to run the notebook. "
   ]
  },
  {
   "cell_type": "code",
   "execution_count": null,
   "metadata": {},
   "outputs": [],
   "source": [
    "if (!requireNamespace(\"BiocManager\", quietly = TRUE)) install.packages(\"BiocManager\")\n",
    "BiocManager::install(\"Rsamtools\")\n",
    "install.packages(\"data.table\")\n",
    "install.packages(\"qqman\")\n",
    "install.packages(\"RColorBrewer\")\n",
    "install.packages(\"tidyr\")\n",
    "install.packages(\"dplyr\")\n",
    "\n",
    "library(Rsamtools)\n",
    "library(data.table)\n",
    "library(qqman)\n",
    "library(RColorBrewer)\n",
    "library(tidyr)\n",
    "library(dplyr)"
   ]
  },
  {
   "cell_type": "markdown",
   "metadata": {},
   "source": [
    "## Define functions \n",
    "____________________________\n",
    "(It is not recommended that you edit these)"
   ]
  },
  {
   "cell_type": "code",
   "execution_count": null,
   "metadata": {
    "slideshow": {
     "slide_type": "-"
    }
   },
   "outputs": [],
   "source": [
    "# parameters\n",
    "# **notebook_name**: The name of this notebook (or what you would like to save the notebook as).  \n",
    "# **chr_col**: Chromosome column name in the summary statistics file. (Default = \"CHR\")  \n",
    "# **pos_col**: Position column name in the summary statistics file. (Default = \"POS\")  \n",
    "# **ref_col**: Reference allele column name in the summary statistics file. (Default = \"Allele1\")  \n",
    "# **alt_col**: Alternate allele column name in the summary statistics file. (Default = \"Allele2\")  \n",
    "# **alt_frq_col**: Alternate allele frequency column name in the summary statistics file. (Default = \"AF_Allele2\")  \n",
    "# **alt_count_col**: Alternate allele count column name in the summary statistics file. (Default = \"AC_Allele2\")  \n",
    "# **n_col**: Number of samples column name in the summary statistics file. (Default = \"N\")  \n",
    "# **pval_col**: P-value column name in the summary statistics file. (Default = \"p.value\")  \n",
    "# **beta_col**: Effect estimate column name in the summary statistics file. (Default = NULL)  \n",
    "# **se_col**: Standard error column name in the summary statistics file. (Default = NULL)  \n",
    "# **rsid_col**: RsID column name in the summary statistics file. (Default = NULL)\n",
    "\n",
    "# Downloads and opens a file either stored in a google bucket or locally\n",
    "get_data <- function(in_file) {\n",
    "    if (!file.exists(in_file)) {\n",
    "        if (!startsWith(in_file, \"gs://\")){\n",
    "            print(\"File must either exist locally or be a GCS link.\")\n",
    "            quit()\n",
    "        } else {\n",
    "            system(paste0(\"gsutil cp \", in_file, \" ./\"))\n",
    "        }\n",
    "    }\n",
    "    return(fread(basename(in_file)))\n",
    "}\n",
    "\n",
    "## Processes variant summary statistics files\n",
    "load_and_process <- function(in_file, chr_col = \"chr\", pos_col = \"pos\", ref_col = \"ref\", alt_col = \"alt\", alt_frq_col = \"freq\", alt_count_col = NA, n_col = \"n.obs\", pval_col = \"P\", beta_col = NA, se_col = \"Score.SE\", rsid_col = \"snpID\", label = NULL){\n",
    "  # Get a label if none is provided\n",
    "  if (is.null(label)) label <- sub(pattern = \"(.*?)\\\\..*$\", replacement = \"\\\\1\", basename(in_file))\n",
    "\n",
    "  # define the output file paths\n",
    "  out.all.file <- paste0(label, \"_allvariants.tsv\")\n",
    "  out.all.file.gz <- paste0(label, \"_allvariants.tsv.gz\")\n",
    "  out.some.file <- paste0(label, \"_Plt0.01.csv\")\n",
    "  out.least.file <- paste0(label, \"_Plt5e-6.csv\")\n",
    "\n",
    "  # Download/load the file, add columns and format\n",
    "  data <- get_data(in_file) %>% \n",
    "    drop_na(chr_col, pos_col, ref_col, alt_col, alt_frq_col, n_col, pval_col) %>% \n",
    "    mutate(minor.allele = ifelse(alt_frq_col < 0.5, \"alt\", \"ref\")) %>%\n",
    "    unite(\"MarkerName\", chr_col, pos_col, ref_col, alt_col, sep = \"_\", remove = F)\n",
    "  data[[chr_col]] <- sub(\"^chr\", \"\", data[[chr_col]])\n",
    "  if (any(data[[chr_col]] == \"X\")) data[data[[chr_col]] == \"X\", chr_col] <- 23\n",
    "  if (any(data[[chr_col]] == \"Y\")) data[data[[chr_col]] == \"Y\", chr_col] <- 24\n",
    "  if (any(data[[chr_col]] == \"M\")) data[data[[chr_col]] == \"M\", chr_col] <- 25\n",
    "    data[[chr_col]] <- as.numeric(data[[chr_col]])\n",
    "  data$maf <- ifelse(data$minor.allele == \"alt\", data[[alt_frq_col]], 1 - data[[alt_frq_col]])\n",
    "  if (is.na(alt_count_col)){\n",
    "    data$mac <- 2 * data[[n_col]] * data$maf\n",
    "  } else {\n",
    "    data$mac <- ifelse(data[[alt_frq_col]] < 0.5, data[[alt_count_col]], 2 * data[[n_col]] - data[[alt_count_col]])\n",
    "  }\n",
    "\n",
    "  # Take only the columns that we want and rename\n",
    "  col_select <- c(\"MarkerName\", chr_col, pos_col, ref_col, alt_col, \"minor.allele\", \"maf\", \"mac\", n_col, pval_col, beta_col, se_col, rsid_col)\n",
    "  in_names <- col_select %in% names(data)\n",
    "  col_select <- col_select[in_names]\n",
    "  data <- data[,col_select]\n",
    "  names(data) <- c(\"#MarkerName\", \"chr\", \"pos\", \"ref\", \"alt\", \"minor.allele\", \"maf\", \"mac\", \"n\", \"pvalue\", \"beta\", \"se\", \"rsid\")[in_names]\n",
    "  chr_col <<- \"chr\"; pos_col <<- \"pos\"; ref_col <<- \"ref\"; alt_col <<- \"alt\"; n_col <<- \"n\"; pval_col <<- \"pvalue\"; se_col <<- \"se\"; rsid_col <<- \"rsid\"\n",
    "  if (!is.na(beta_col)) beta_col <<- \"beta\"\n",
    "\n",
    "  # Write the reformatted files\n",
    "  fwrite(data, file = out.all.file, quote = FALSE, sep = \"\\t\", row.names = F)\n",
    "  fwrite(data[data$pvalue < 0.01,], file = out.some.file, quote = FALSE, sep = \",\", row.names = F)\n",
    "  fwrite(data[data$pvalue < 5e-6,], file = out.least.file, quote = FALSE, sep = \",\", row.names = F)\n",
    "\n",
    "  # Zip and index\n",
    "  bgzip(file = out.all.file, dest = out.all.file.gz, overwrite = T)\n",
    "  indexTabix(out.all.file.gz, seq = 2, start = 3, end = 3, skip = 1)\n",
    "  \n",
    "  # Move the files to a bucket if one is provided\n",
    "  if (startsWith(in_file, \"gs://\")){\n",
    "    bucket <<- dirname(in_file)\n",
    "    system(paste0(\"gsutil cp \", out.all.file.gz, bucket))\n",
    "    system(paste0(\"gsutil cp \", out.all.file.gz, \".tbi \", bucket))\n",
    "    system(paste0(\"gsutil cp \", out.least.file, bucket))\n",
    "    system(paste0(\"gsutil cp \", out.some.file, bucket))\n",
    "    cat(paste(\"All summary statistics files uploaded to:\", paste0(bucket, out.all.file.gz), paste0(bucket, out.all.file.gz, \".tbi\"), paste0(bucket, out.some.file), paste0(bucket, out.least.file), sep = \"\\n\"))\n",
    "  }\n",
    "  names(data)[1] <- \"MarkerName\"\n",
    "  return(data)\n",
    "}\n",
    "\n",
    "bin_variants <- function(data, out.file, beta_col = NA, pos_col = \"pos\") {\n",
    "  # calculate odds ratio\n",
    "  if (!is.na(beta_col)) data$OR <- exp(data[[beta_col]])  \n",
    "  \n",
    "  # Bin to get index variants per locus\n",
    "  bin_list <- make_bins(data, chr_col = chr_col, pos_col = pos_col, pval_col = pval_col)\n",
    "  \n",
    "  # Summarize bins\n",
    "  binned_index <- do.call(rbind, lapply(bin_list, function(x) cbind(x[[\"index.var\"]], data.frame(minpos = min(x[[\"all.var\"]][[pos_col]]), maxpos = max(x[[\"all.var\"]][[pos_col]]), nvars = length(x[[\"all.var\"]][[pos_col]])))))\n",
    "  \n",
    "  binned_var <- list()\n",
    "  for (i in 1:length(bin_list)){\n",
    "    binned_var[[i]] <- bin_list[[i]][[\"all.var\"]]\n",
    "    binned_var[[i]]$index_markername <- binned_index$MarkerName[i]\n",
    "    binned_var[[i]]$bin_coordinates <- paste0(binned_index[[chr_col]][i], \":\", binned_index$minpos[i], \"-\", binned_index$maxpos[i])\n",
    "  }\n",
    "  binned_var <- do.call(rbind, binned_var)\n",
    "  \n",
    "  # Write results\n",
    "  cat(paste(\"Index variants for all bins written to:\", paste0(out.file,\".binned.index.csv\"), \"\\n\"))\n",
    "  fwrite(binned_index, file = paste0(out.file,\".binned.index.csv\"))\n",
    "  cat(paste(\"All variant bin assignments written to:\", paste0(out.file,\".binned.all.csv\"), \"\\n\"))\n",
    "  fwrite(binned_var, file=paste0(out.file, \".binned.all.csv\"))\n",
    "\n",
    "  # Push to GCS\n",
    "  if (!is.null(bucket)){\n",
    "    cat(paste(\"Index variant and all bin assignment files uploaded to:\", paste0(bucket, out.file,\".binned.index.csv\"), paste0(bucket, out.file,\".binned.all.csv\"), sep = \"\\n\"))\n",
    "    system(paste0(\"gsutil cp \", out.file,\".binned.all.csv \", out.file,\".binned.index.csv \", bucket))\n",
    "  }\n",
    "  return(binned_index)\n",
    "}\n",
    "\n",
    "# Make the bins\n",
    "make_bins <- function(data, chr_col = \"chr\", pos_col = \"pos\", pval_col = \"pvalue\", bin_width = 1e6) {\n",
    "  # Order the data\n",
    "  setorderv(data, c(chr_col, pos_col))\n",
    "    \n",
    "  # bin the data\n",
    "  list.results <- list()\n",
    "  while (nrow(data) > 0) {\n",
    "    # index into the list\n",
    "    i <- length(list.results) + 1\n",
    "    # add a list for each index in the list\n",
    "    list.results[[i]] <- list()\n",
    "    # Get the index variant by starting with the lowest P-value and working down\n",
    "    index.var <- data[which.min(data[[pval_col]]),][1,]\n",
    "    # first entry of this list is the index variant and its summary stats\n",
    "    list.results[[i]][[\"index.var\"]] <- index.var    \n",
    "    # define the bin based on the index position\n",
    "    bin_range <- c(index.var$chr, index.var$pos - bin_width/2, index.var$pos + bin_width/2)\n",
    "    # add of the variants in this bin to the list\n",
    "    list.results[[i]][[\"all.var\"]] <- data[data[[chr_col]] == bin_range[1] & data[[pos_col]] > as.numeric(bin_range[2]) & data[[pos_col]] <= as.numeric(bin_range[3]),]\n",
    "    data <- data[!(data$MarkerName %in% list.results[[i]][[\"all.var\"]]$MarkerName),]\n",
    "    i <- i+1     \n",
    "  }\n",
    "  return(list.results)\n",
    "}\n",
    "\n",
    "\n",
    "# Make a Manhattan plot\n",
    "make_manhattan_frq <- function(data,  ymax = NULL, chr_col = \"chr\", pos_col = \"pos\", alt_frq_col = \"maf\", pval_col = \"pvalue\", suggestiveline = -log10(5e-05), genomewideline = -log10(5e-08)){\n",
    "    if (is.null(ymax)){\n",
    "        ylim <- c(0, ceiling(-log10(min(data[[pval_col]]))))\n",
    "    } else {\n",
    "        ylim <- c(0, ymax)\n",
    "    }\n",
    "    \n",
    "    # Make the plots\n",
    "    options(repr.plot.width = 12, repr.plot.height = 6); par(ps = 18, mar = c(5,5,5,5))\n",
    "    print(paste(\"Common SNPs:\", sum(data[[alt_frq_col]] >= 0.01)))\n",
    "    manhattan(data[which(data[[alt_frq_col]] >= 0.01),], chr = chr_col, bp = pos_col, p = pval_col, suggestiveline = suggestiveline, genomewideline = genomewideline, ylim = ylim, main = \"Common Variants (AF > 1%)\")\n",
    "\n",
    "    print(paste(\"Rare SNPs:\", sum(data[[alt_frq_col]] < 0.01)))\n",
    "    manhattan(data[which(data[[alt_frq_col]] < 0.01),], chr = chr_col, bp = pos_col, p = pval_col, suggestiveline = suggestiveline, genomewideline = genomewideline, ylim = ylim, main = \"Rare Variants (AF < 1%)\")\n",
    "}\n",
    "\n",
    "# make a Quantile Quantile plot, with two types of points\n",
    "make_qq_frq <- function(pvals1, pvals2, main = \"QQ plot\"){\n",
    "  # Process pvalues\n",
    "  pvals1 <- sort(-log10(pvals1[pvals1 > 0]))\n",
    "  pvals2 <- sort(-log10(pvals2[pvals2 > 0]))\n",
    "  ymax <- ceiling(max(max(pvals1), max(pvals2)))\n",
    "    \n",
    "  # Generate the plot\n",
    "  par(ps = 18)\n",
    "  plot(x = qexp(ppoints(length(pvals1)))/log(10), y = pvals1, xlab = \"Expected\", ylab = \"Observed\", main = main, col = \"#E69F00\", cex = .8, bg = \"#E69F00\", pch = 21, ylim = c(0, ymax))\n",
    "  abline(0, 1, lty = 2)\n",
    "  points(x = qexp(ppoints(length(pvals2)))/log(10), y = pvals2, col = \"#56B4E9\", cex = .8, bg = \"#56B4E9\", pch = 21)\n",
    "}\n",
    "\n",
    "# make a Quantile Quantile plot\n",
    "make_qq <- function(pvals, main = \"QQ plot\"){\n",
    "  # Process pvalues\n",
    "  pvals <- sort(-log10(pvals[pvals > 0]))\n",
    "  \n",
    "  # Generate the plot\n",
    "  par(ps = 18)\n",
    "  plot(x = qexp(ppoints(length(pvals)))/log(10), y = pvals, xlab = \"Expected\", ylab = \"Observed\", main = main, col = \"#000000\", cex = .8, bg = \"#000000\", pch = 21, ylim = c(0, ceiling(max(pvals))))\n",
    "  abline(0, 1, lty = 2)\n",
    "}\n",
    "\n",
    "# make the full summary plot with two QQs and one MH\n",
    "make_summary_plot <- function(data, label, pval_col = \"pvalue\", alt_frq_col = \"maf\", chr_col = \"chr\", pos_col = \"pos\"){  \n",
    "  options(repr.plot.width = 12, repr.plot.height = 12); par(ps = 18); layout(matrix(c(1,2,3,3),nrow=2,byrow = T))\n",
    "  \n",
    "  # Make the plots\n",
    "  make_qq(data[[pval_col]], main = \" \")\n",
    "  legend('topleft',c(paste0('ALL ',lam.new(data[[pval_col]]))),col=c(\"#000000\"), pch=c(21), bty = 'n')\n",
    "  make_qq_frq(data[data[[alt_frq_col]] >= 0.01,][[pval_col]], data[data[[alt_frq_col]] < 0.01,][[pval_col]], main = \" \")\n",
    "  legend('topleft', c(paste0('MAF >= 1%  ', lam.new(data[data[[alt_frq_col]] >= 0.01,][[pval_col]])), paste0('MAF < 1%  ', lam.new(data[data[[alt_frq_col]] < 0.01,][[pval_col]]))), col = c(\"#E69F00\", \"#56B4E9\"), pch = c(21,21), pt.bg = c(\"#E69F00\", \"#56B4E9\"), , bty = 'n')\n",
    "  manhattan(data, chr = chr_col, bp = pos_col, p = pval_col, main = \"All variants\", suggestiveline = -log10(5e-5), genomewideline = -log10(5e-8))\n",
    "}\n",
    "\n",
    "# Calculate genomic inflation\n",
    "lam.new <- function(x,p=.5){\n",
    "  x = x[!is.na(x)]\n",
    "  x.quantile <- quantile(x,p)\n",
    "  round((qchisq(1-x.quantile,1)/qchisq(p,1)),2)\n",
    "}"
   ]
  },
  {
   "cell_type": "markdown",
   "metadata": {},
   "source": [
    "## Load and preprocess the summary statistics\n",
    "____________________________\n",
    "This will change the format, compress, and Tabix index your summary statistics. If a GCS bucket is specified, the resulting files will be uploaded."
   ]
  },
  {
   "cell_type": "code",
   "execution_count": null,
   "metadata": {
    "scrolled": true
   },
   "outputs": [],
   "source": [
    "new_data <- load_and_process(in_file, label = label)"
   ]
  },
  {
   "cell_type": "markdown",
   "metadata": {},
   "source": [
    "## Bin the variants.\n",
    "____________________________\n",
    "This preforms a rudimentary binning procedure. Starting with the variant with lowest P-value, all variants within 1kb are assigned to a bin indexed by the lead variant. This process continues, choosing the lowest P-value variant, until all variants are assigned to a bin."
   ]
  },
  {
   "cell_type": "code",
   "execution_count": null,
   "metadata": {
    "scrolled": true
   },
   "outputs": [],
   "source": [
    "binned.results <- bin_variants(new_data, label)\n",
    "binned.results[order(binned.results[[pval_col]]),]"
   ]
  },
  {
   "cell_type": "markdown",
   "metadata": {},
   "source": [
    "### Make Manhattan plots\n",
    "____________________________\n",
    "Two manhattan plots will be generated, separated by minor allele frequency."
   ]
  },
  {
   "cell_type": "code",
   "execution_count": null,
   "metadata": {
    "scrolled": false
   },
   "outputs": [],
   "source": [
    "make_manhattan_frq(new_data)"
   ]
  },
  {
   "cell_type": "markdown",
   "metadata": {},
   "source": [
    "## Make QQ plots\n",
    "____________________________\n",
    "Two quantile-quantile plots and a single Manhattan plot will be generated. "
   ]
  },
  {
   "cell_type": "code",
   "execution_count": null,
   "metadata": {
    "scrolled": false
   },
   "outputs": [],
   "source": [
    "make_summary_plot(new_data, label)"
   ]
  },
  {
   "cell_type": "markdown",
   "metadata": {},
   "source": [
    "## Upload the notebook to GCS\n",
    "____________________________\n",
    "If the input file is from GCS, this notebook and an HTML rendering are uploaded to GCS."
   ]
  },
  {
   "cell_type": "code",
   "execution_count": null,
   "metadata": {},
   "outputs": [],
   "source": [
    "if (!is.null(bucket)){\n",
    "  system(paste0(\"jupyter nbconvert \", label, \".ipynb --to html --output \", label, \".html\"))\n",
    "  system(paste0(\"gsutil cp \", label, \".html \", bucket, \" \", label, \".html\"))\n",
    "}"
   ]
  }
 ],
 "metadata": {
  "celltoolbar": "Raw Cell Format",
  "kernelspec": {
   "display_name": "R",
   "language": "R",
   "name": "ir"
  },
  "language_info": {
   "codemirror_mode": "r",
   "file_extension": ".r",
   "mimetype": "text/x-r-source",
   "name": "R",
   "pygments_lexer": "r",
   "version": "3.6.0"
  },
  "toc": {
   "base_numbering": 1,
   "nav_menu": {},
   "number_sections": true,
   "sideBar": true,
   "skip_h1_title": false,
   "title_cell": "Table of Contents",
   "title_sidebar": "Contents",
   "toc_cell": false,
   "toc_position": {},
   "toc_section_display": true,
   "toc_window_display": false
  }
 },
 "nbformat": 4,
 "nbformat_minor": 2
}
